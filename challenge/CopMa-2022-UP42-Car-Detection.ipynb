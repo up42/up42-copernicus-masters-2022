{
 "cells": [
  {
   "cell_type": "markdown",
   "id": "611e98ad-422f-457d-a61a-a264acab7980",
   "metadata": {},
   "source": [
    "# [UP42 Challenge](https://up42.com/)\n",
    "# [Sustainable Urban Planning Challenge](https://copernicus-masters.com/challenges/up42-challenge/)"
   ]
  },
  {
   "cell_type": "code",
   "execution_count": 1,
   "id": "93e425ad-b23f-442e-80ed-ddcfa1ebb7dd",
   "metadata": {},
   "outputs": [],
   "source": [
    "# Install UP42 SKD\n",
    "#!pip install up42-py\n",
    "#!pip install geopandas\n",
    "#!pip install pandas\n",
    "#!pip install leafmap\n",
    "#!pip install matplotlib"
   ]
  },
  {
   "cell_type": "code",
   "execution_count": 2,
   "id": "c79ca321-6d1f-4fcf-b481-71241740de24",
   "metadata": {},
   "outputs": [],
   "source": [
    "# Import python modules\n",
    "import os\n",
    "import json\n",
    "import up42\n",
    "import leafmap\n",
    "import pandas as pd\n",
    "import geopandas as gpd\n",
    "from pathlib import Path\n",
    "from pprint import pprint\n",
    "import matplotlib.pyplot as plt"
   ]
  },
  {
   "cell_type": "code",
   "execution_count": 3,
   "id": "8e8222a0-d89a-4658-a418-62b99898f9f6",
   "metadata": {},
   "outputs": [
    {
     "name": "stderr",
     "output_type": "stream",
     "text": [
      "2022-06-07 16:33:45,699 - Got credentials from config file.\n",
      "2022-06-07 16:33:46,100 - Authentication with UP42 successful!\n",
      "2022-06-07 16:33:46,240 - Initialized Project(name: SDK projects, project_id: fe110e3a-4e80-455a-b3cb-010d73e7045c, description: Here you can find different attempts of projects using the UP42 SDK package, createdAt: 2021-12-14T19:56:37.398239Z)\n"
     ]
    }
   ],
   "source": [
    "# Authenticate and initialize project\n",
    "# https://sdk.up42.com/authentication/\n",
    "up42.authenticate(cfg_file=\"project_conf_file.json\")\n",
    "\n",
    "# Initialize project & Storage\n",
    "project = up42.initialize_project()\n",
    "storage = up42.initialize_storage()"
   ]
  },
  {
   "cell_type": "code",
   "execution_count": 4,
   "id": "383e8f14-d641-44b1-bc58-c7b26bf17ac4",
   "metadata": {},
   "outputs": [
    {
     "name": "stderr",
     "output_type": "stream",
     "text": [
      "2022-06-07 16:33:46,249 - Getting existing workflows in project ...\n",
      "2022-06-07 16:33:46,404 - Got 12 workflows for project fe110e3a-4e80-455a-b3cb-010d73e7045c.\n",
      "2022-06-07 16:33:46,558 - Using existing workflow: CopMa 2022: Car Detection - 182b625e-49d1-44a9-b6fa-53c5b4d77902\n"
     ]
    }
   ],
   "source": [
    "# Create a new workflow\n",
    "workflow = project.create_workflow(name=\"CopMa 2022: Car Detection\", \n",
    "                                   use_existing = True)"
   ]
  },
  {
   "cell_type": "code",
   "execution_count": 5,
   "id": "fc8b4b68-1eb6-4b40-b1d3-001e16e57384",
   "metadata": {},
   "outputs": [
    {
     "name": "stdout",
     "output_type": "stream",
     "text": [
      "\"SPOT 6/7 Display (Streaming)\"\n",
      "\"Raster Tiling\"\n",
      "\"Sentinel-2 L1C (SAFE)\"\n",
      "\"Pléiades Display (Streaming)\"\n",
      "\"Sentinel-1 L1 GRD (SAFE)\"\n",
      "\"SNAP Polarimetric Processing Sentinel-1\"\n",
      "\"Sentinel-2 Enhanced Cloud Mask Generation\"\n",
      "\"Temporal Change Detection\"\n",
      "\"Settlement Mapping\"\n",
      "\"Sentinel-2 Level 2 (GeoTIFF)\"\n",
      "\"Landsat-8 Level 1 (GeoTIFF)\"\n",
      "\"Co-Registration\"\n",
      "\"Normalized Difference Water Index\"\n",
      "\"Normalized Difference Vegetation Index\"\n",
      "\"Building Detection\"\n",
      "\"Sentinel-1 L1 SLC (SAFE)\"\n",
      "\"Enhanced Vegetation Index\"\n",
      "\"Soil Adjusted Vegetation Index\"\n",
      "\"Normalized Burnt Index\"\n",
      "\"Moisture Stress Index\"\n",
      "\"MODIS (GeoTIFF)\"\n",
      "\"Super-resolution Sentinel-2\"\n",
      "\"Building Bounding Box Detector\"\n",
      "\"Pléiades Reflectance (Download)\"\n",
      "\"SPOT 6/7 Reflectance (Download)\"\n",
      "\"Deforestation Mapping\"\n",
      "\"Pan-sharpening\"\n",
      "\"Sentinel-1 L1 GRD (GeoTIFF)\"\n",
      "\"NDVI\"\n",
      "\"Sports Facilities Detection\"\n",
      "\"Urban Super Resolution\"\n",
      "\"Burnt Area Extraction\"\n",
      "\"K-means Clustering\"\n",
      "\"Sentinel-5P (NetCDF)\"\n",
      "\"Raster CRS Conversion\"\n",
      "\"Sentinel-3 (NetCDF)\"\n",
      "\"Vectorization\"\n",
      "\"Simularity Dynamic Range Adjustment using Histogram Equalization\"\n",
      "\"Sharpening Filter\"\n",
      "\"Super-resolution Pléiades/SPOT \"\n",
      "\"Raster Zonal Statistics\"\n",
      "\"Level-3 Processor Sentinel-5P\"\n",
      "\"Urban Estimation\"\n",
      "\"Flood Mapping using Sentinel-1 SAR\"\n",
      "\"Small Vehicle Detection\"\n",
      "\"Building Detection Filter\"\n",
      "\"Ship Identification\"\n",
      "\"AIS Historical Vessel Tracks\"\n",
      "\"AIS Historical Vessel Positions\"\n",
      "\"Weather / Ocean Data and Forecasts\"\n",
      "\"Large Vehicle Detection\"\n",
      "\"Pléiades Primary (Download)\"\n",
      "\"Reservoirs and Lakes Surface Area Timeseries Dataset\"\n",
      "\"TerraSAR-X EEC Full Scenes (Sample Data)\"\n",
      "\"TerraSAR-X SSC Full Scenes (Sample Data)\"\n",
      "\"Getmapping AOI-Clipped 25cm Base Resolution\"\n",
      "\"Getmapping AOI-Clipped 12.5cm Base Resolution\"\n",
      "\"DIMAP -> GeoTIFF Conversion\"\n",
      "\"NetCDF -> GeoTIFF Conversion\"\n",
      "\"SNAP Sentinel-1 Ship Detection\"\n",
      "\"Sentinel-2 L2A (SAFE)\"\n",
      "\"NEXTMap 5 - Elevation Data (Streaming)\"\n",
      "\"NEXTMap 10 - Elevation Data (Streaming)\"\n",
      "\"NEXTMap One - Elevation Data (Streaming)\"\n",
      "\"Advanced Water-Related Geohazards Predictor\"\n",
      "\"Swimming pool object detection\"\n",
      "\"Landsat 8 (GeoTIFF-Bundle)\"\n",
      "\"Land Cover Classifier for Pléiades/SPOT \"\n",
      "\"OpenStreetMap\"\n",
      "\"Import Data (GeoTIFF)\"\n",
      "\"Import Data (DIMAP)\"\n",
      "\"Fertilization Zoning Maps\"\n",
      "\"MODIS (GeoTIFF-Bundle)\"\n",
      "\"Tree Detection and Height From Shadow\"\n",
      "\"Count Objects\"\n",
      "\"Export Data (Raster)\"\n",
      "\"Export Data (Vector)\"\n",
      "\"Weather / Ocean Data and Forecasts - Map\"\n",
      "\"AIS - Query Vessel by ID\"\n",
      "\"HxGN Content Program, 15 cm (Streaming)\"\n",
      "\"HxGN Content Program, 15 cm (Download)\"\n",
      "\"HxGN Content Program, 30 cm (Download)\"\n",
      "\"HxGN Content Program, 30 cm (Streaming)\"\n",
      "\"Global Seeps Sample\"\n",
      "\"Cloud Mask\"\n",
      "\"NDVI Threshold\"\n",
      "\"Land Surface Temperature Estimation\"\n",
      "\"SPOT 6/7 Display (Download)\"\n",
      "\"Pléiades Display (Download)\"\n",
      "\"Tree Detection\"\n",
      "\"Shadow Detection\"\n",
      "\"Viewshed\"\n",
      "\"Import Data (GeoJSON)\"\n",
      "\"TerraSAR -> GeoTIFF Conversion\"\n",
      "\"Airbus Basemap (Streaming)\"\n",
      "\"Airbus Basemap (Download)\"\n",
      "\"Sentinel-2 Reservoir and Lake Surface Area Monitoring\"\n",
      "\"Global Seeps\"\n",
      "\"Water Finder Pléiades/SPOT\"\n",
      "\"Flood Finder Pléiades/SPOT\"\n",
      "\"Ground Displacement\"\n",
      "\"Geocodis Builtup Areas\"\n",
      "\"Sentinel-5P Level-3 (GeoTIFF)\"\n",
      "\"Time Series Image Statistics\"\n",
      "\"WorldDEM™ Full Resolution\"\n",
      "\"Weather Data for Agriculture\"\n",
      "\"Weather Data for Energy and Power\"\n",
      "\"Weather Data for Marine and Ocean\"\n",
      "\"Sentinel-2 L2A Analytic (GeoTIFF)\"\n",
      "\"Sentinel-2 L2A Visual (GeoTIFF)\"\n",
      "\"FieldFinder Europe SPOT\"\n",
      "\"FieldFinder Iowa SPOT\"\n",
      "\"Image Augmentor\"\n",
      "\"Infrastructure Change Detection Pleiades\"\n",
      "\"Infrastructure Change Detection SPOT\"\n",
      "\"Land Lines Image Segmentation\"\n",
      "\"16-to-8 Bit Conversion\"\n",
      "\"Building Detector\"\n",
      "\"HxGN Content Program, 30 cm EU (Download)\"\n",
      "\"Change Detector\"\n",
      "\"NEXTMap 10 DSM- Elevation Data (Streaming)\"\n",
      "\"NEXTMap 10 DTM - Elevation Data (Streaming)\"\n",
      "\"NEXTMap One DSM- Elevation Data (Streaming)\"\n",
      "\"NEXTMap One DTM- Elevation Data (Streaming)\"\n",
      "\"NEXTMap 6 - Elevation Data (Streaming)\"\n",
      "\"NEXTMap 6 DSM- Elevation Data (Streaming)\"\n",
      "\"NEXTMap 6 DTM - Elevation Data (Streaming)\"\n",
      "\"Building Detection and Height From Shadow\"\n",
      "\"RFViewshed\"\n",
      "\"Co-registration\"\n",
      "\"Processing from Storage\"\n",
      "\"WorldDEM4Ortho\"\n",
      "\"WorldDEM DTMlite\"\n",
      "\"Land Cover Data 10m 10 class\"\n",
      "\"Oil Slick Detection Filter\"\n",
      "\"Wind Turbines Detection\"\n",
      "\"Ship Detection\"\n",
      "\"Change Detection\"\n",
      "\"Storage Tank Detection\"\n",
      "\"Aircraft Detection\"\n",
      "\"Car Detection\"\n",
      "\"Truck Detection\"\n"
     ]
    }
   ],
   "source": [
    "# Before adding the blocks to your new workflow, check the names of available blocks\n",
    "block_list=up42.get_blocks(basic=False)\n",
    "#print(block_list)\n",
    "\n",
    "for block in range(len(block_list)):\n",
    "  name_list=json.dumps(block_list[block][\"displayName\"], \n",
    "                       ensure_ascii=False)\n",
    "  print(name_list)"
   ]
  },
  {
   "cell_type": "code",
   "execution_count": 6,
   "id": "7a817284-8bef-46e1-9f12-b0e5b2c5c9a8",
   "metadata": {},
   "outputs": [
    {
     "name": "stderr",
     "output_type": "stream",
     "text": [
      "2022-06-07 16:33:49,914 - Added tasks to workflow: [{'name': 'up42-processing-from-storage:1', 'parentName': None, 'blockId': 'c0692741-8cd4-421c-94e1-e7fe2a4f0d0f'}, {'name': 'data-conversion-dimap:1', 'parentName': 'up42-processing-from-storage:1', 'blockId': 'c94bb4cd-8ee2-40df-ba76-d332b8f48c6a'}, {'name': 'crs-conversion:1', 'parentName': 'data-conversion-dimap:1', 'blockId': '30f20bac-7499-4159-a4f3-38188a6e33e0'}, {'name': 'tiling:1', 'parentName': 'crs-conversion:1', 'blockId': '3e146dd6-2b67-4d6e-a422-bb3d973e32ff'}, {'name': 'orbital_pleiades_cars:1', 'parentName': 'tiling:1', 'blockId': '721c73a0-a859-4321-a39a-85637307cc79'}]\n"
     ]
    }
   ],
   "source": [
    "# Selection of the datablock and the processing block we want to use to start our project\n",
    "input_tasks = [\"Processing from Storage\", \"DIMAP -> GeoTIFF Conversion\",\n",
    "              \"Raster CRS Conversion\", \"tiling\", \"Car Detection\"]\n",
    "\n",
    "workflow.add_workflow_tasks(input_tasks)"
   ]
  },
  {
   "cell_type": "code",
   "execution_count": 7,
   "id": "1f9ef1bf-dd59-4c3d-95dd-13f4cc259871",
   "metadata": {},
   "outputs": [],
   "source": [
    "# Define your Area of Interest\n",
    "#aoi = up42.read_vector_file(\"{/computer/path/where/aoi/is/stored}.geojson\")\n",
    "aoi = up42.read_vector_file(Path.cwd().joinpath(\"saint_malo.geojson\"))"
   ]
  },
  {
   "cell_type": "markdown",
   "id": "d7b2531b",
   "metadata": {},
   "source": [
    "## Before I start, I would like to check my area of interest (AOI) to confirm that my AOI will have and that its location is correct."
   ]
  },
  {
   "cell_type": "code",
   "execution_count": 8,
   "id": "d97bda2e-6ed4-4a69-b160-54c26c7b22a7",
   "metadata": {
    "scrolled": true
   },
   "outputs": [
    {
     "data": {
      "application/vnd.jupyter.widget-view+json": {
       "model_id": "5bafc4b7f7404d85bab12814123680c7",
       "version_major": 2,
       "version_minor": 0
      },
      "text/plain": [
       "Map(center=[20, 0], controls=(ZoomControl(options=['position', 'zoom_in_text', 'zoom_in_title', 'zoom_out_text…"
      ]
     },
     "metadata": {},
     "output_type": "display_data"
    }
   ],
   "source": [
    "# Making Leafmap using AOI\n",
    "gdf = gpd.read_file(Path.cwd().joinpath(\"saint_malo.geojson\"))\n",
    "m = leafmap.Map()\n",
    "m.add_gdf(gdf, layer_name=\"Saint Malo\")\n",
    "m"
   ]
  },
  {
   "cell_type": "markdown",
   "id": "c024d565",
   "metadata": {},
   "source": [
    "## Get Assest IDs"
   ]
  },
  {
   "cell_type": "code",
   "execution_count": 9,
   "id": "59d6ab84",
   "metadata": {},
   "outputs": [
    {
     "name": "stderr",
     "output_type": "stream",
     "text": [
      "2022-06-07 16:33:50,348 - Got 9 assets for workspace fe60cb09-d493-453f-a0df-ee23d91f56b5.\n"
     ]
    },
    {
     "data": {
      "text/plain": [
       "[Asset(name: oneatlas_b51ebb5d-c562-4ee2-8748-8cc9a388e050.zip, asset_id: 01bef8e2-ad25-4131-8eb8-c934fa5f96ba, type: ARCHIVED, source: ORDER, createdAt: 2022-06-04T14:41:27.946764Z, size: 4403621),\n",
       " Asset(name: oneatlas_afb210b6-3d95-471c-84ef-4ab71e423465.zip, asset_id: c5c9c759-e68d-40c2-94f5-18cb41c6e30f, type: ARCHIVED, source: ORDER, createdAt: 2022-06-04T14:41:27.888634Z, size: 4345090),\n",
       " Asset(name: oneatlas_9cec9a16-1554-4461-9c8e-b7c6c544ab58.zip, asset_id: d8bed2f6-9010-4330-b844-2fe8285c8262, type: ARCHIVED, source: ORDER, createdAt: 2022-06-04T14:41:27.182981Z, size: 4333124),\n",
       " Asset(name: oneatlas_510738c1-3ee8-4c87-9f4c-6beebe035632.zip, asset_id: d559ad3b-594e-4f6e-9867-dacd46826e26, type: ARCHIVED, source: ORDER, createdAt: 2022-06-04T14:41:27.171275Z, size: 4166595),\n",
       " Asset(name: oneatlas_07629ea6-f5dd-4bf8-a1da-1f5667be1f4a.zip, asset_id: bb2a1ced-c96d-4cc4-aa5b-735724af7079, type: ARCHIVED, source: ORDER, createdAt: 2022-06-04T14:31:26.452447Z, size: 4497494),\n",
       " Asset(name: oneatlas_4b1ff707-21c5-4732-aca5-9e36de9e4bbb.zip, asset_id: 1ca07c99-e00d-4e38-9a4f-ae30f357ecb0, type: ARCHIVED, source: ORDER, createdAt: 2022-06-04T14:30:30.492251Z, size: 4479358),\n",
       " Asset(name: oneatlas_365c5617-3812-4cdc-8ce6-2b01052c72f6.zip, asset_id: d0d58251-08c9-415b-8dcb-e4206abdf712, type: ARCHIVED, source: ORDER, createdAt: 2022-06-04T14:17:31.104885Z, size: 3333322),\n",
       " Asset(name: oneatlas_a0b4b819-f0bf-4395-99cd-91ab4a69a3d4.zip, asset_id: 2235539a-c8b1-4076-8dc1-269eed37f65c, type: ARCHIVED, source: ORDER, createdAt: 2022-06-04T14:17:30.465420Z, size: 4346601),\n",
       " Asset(name: oneatlas_e3920a9c-1fbb-46d5-b38a-a78c3fb8f9eb.zip, asset_id: e04cd0f7-f4f8-4ae1-9d20-660e33e2a4ac, type: ARCHIVED, source: ORDER, createdAt: 2022-06-04T14:17:30.444372Z, size: 4174669)]"
      ]
     },
     "execution_count": 9,
     "metadata": {},
     "output_type": "execute_result"
    }
   ],
   "source": [
    "# Get a list of all order or asset objects in your user storage\n",
    "assets = storage.get_assets(limit=9, sortby=\"createdAt\")\n",
    "assets"
   ]
  },
  {
   "cell_type": "code",
   "execution_count": 10,
   "id": "d8b06f6a",
   "metadata": {},
   "outputs": [
    {
     "data": {
      "text/plain": [
       "['01bef8e2-ad25-4131-8eb8-c934fa5f96ba',\n",
       " 'c5c9c759-e68d-40c2-94f5-18cb41c6e30f',\n",
       " 'd8bed2f6-9010-4330-b844-2fe8285c8262',\n",
       " 'd559ad3b-594e-4f6e-9867-dacd46826e26',\n",
       " 'bb2a1ced-c96d-4cc4-aa5b-735724af7079',\n",
       " '1ca07c99-e00d-4e38-9a4f-ae30f357ecb0',\n",
       " 'd0d58251-08c9-415b-8dcb-e4206abdf712',\n",
       " '2235539a-c8b1-4076-8dc1-269eed37f65c',\n",
       " 'e04cd0f7-f4f8-4ae1-9d20-660e33e2a4ac']"
      ]
     },
     "execution_count": 10,
     "metadata": {},
     "output_type": "execute_result"
    }
   ],
   "source": [
    "#Separate just the asset Id\n",
    "asset_ids = [element.asset_id for element in assets]\n",
    "asset_ids"
   ]
  },
  {
   "cell_type": "markdown",
   "id": "c3178828",
   "metadata": {},
   "source": [
    "## We now return to the use of the UP42 SDK."
   ]
  },
  {
   "cell_type": "code",
   "execution_count": 11,
   "id": "3e4e39dc",
   "metadata": {
    "scrolled": true
   },
   "outputs": [
    {
     "name": "stdout",
     "output_type": "stream",
     "text": [
      "Working with the asset ID: 01bef8e2-ad25-4131-8eb8-c934fa5f96ba\n",
      "Working with the asset ID: c5c9c759-e68d-40c2-94f5-18cb41c6e30f\n",
      "Working with the asset ID: d8bed2f6-9010-4330-b844-2fe8285c8262\n",
      "Working with the asset ID: d559ad3b-594e-4f6e-9867-dacd46826e26\n",
      "Working with the asset ID: bb2a1ced-c96d-4cc4-aa5b-735724af7079\n",
      "Working with the asset ID: 1ca07c99-e00d-4e38-9a4f-ae30f357ecb0\n",
      "Working with the asset ID: d0d58251-08c9-415b-8dcb-e4206abdf712\n",
      "Working with the asset ID: 2235539a-c8b1-4076-8dc1-269eed37f65c\n",
      "Working with the asset ID: e04cd0f7-f4f8-4ae1-9d20-660e33e2a4ac\n"
     ]
    },
    {
     "data": {
      "text/plain": [
       "[{'up42-processing-from-storage:1': {'asset_ids': ['01bef8e2-ad25-4131-8eb8-c934fa5f96ba']},\n",
       "  'data-conversion-dimap:1': {'ms': True, 'pan': False, 'clip_to_aoi': False},\n",
       "  'crs-conversion:1': {'resampling_method': 'cubic', 'output_epsg_code': 3857},\n",
       "  'tiling:1': {'tile_width': 1232,\n",
       "   'tile_height': 1232,\n",
       "   'match_extents': False,\n",
       "   'output_prefix': '',\n",
       "   'augmentation_factor': 1,\n",
       "   'discard_empty_tiles': True,\n",
       "   'nodata': None},\n",
       "  'orbital_pleiades_cars:1': {}},\n",
       " {'up42-processing-from-storage:1': {'asset_ids': ['c5c9c759-e68d-40c2-94f5-18cb41c6e30f']},\n",
       "  'data-conversion-dimap:1': {'ms': True, 'pan': False, 'clip_to_aoi': False},\n",
       "  'crs-conversion:1': {'resampling_method': 'cubic', 'output_epsg_code': 3857},\n",
       "  'tiling:1': {'tile_width': 1232,\n",
       "   'tile_height': 1232,\n",
       "   'match_extents': False,\n",
       "   'output_prefix': '',\n",
       "   'augmentation_factor': 1,\n",
       "   'discard_empty_tiles': True,\n",
       "   'nodata': None},\n",
       "  'orbital_pleiades_cars:1': {}},\n",
       " {'up42-processing-from-storage:1': {'asset_ids': ['d8bed2f6-9010-4330-b844-2fe8285c8262']},\n",
       "  'data-conversion-dimap:1': {'ms': True, 'pan': False, 'clip_to_aoi': False},\n",
       "  'crs-conversion:1': {'resampling_method': 'cubic', 'output_epsg_code': 3857},\n",
       "  'tiling:1': {'tile_width': 1232,\n",
       "   'tile_height': 1232,\n",
       "   'match_extents': False,\n",
       "   'output_prefix': '',\n",
       "   'augmentation_factor': 1,\n",
       "   'discard_empty_tiles': True,\n",
       "   'nodata': None},\n",
       "  'orbital_pleiades_cars:1': {}},\n",
       " {'up42-processing-from-storage:1': {'asset_ids': ['d559ad3b-594e-4f6e-9867-dacd46826e26']},\n",
       "  'data-conversion-dimap:1': {'ms': True, 'pan': False, 'clip_to_aoi': False},\n",
       "  'crs-conversion:1': {'resampling_method': 'cubic', 'output_epsg_code': 3857},\n",
       "  'tiling:1': {'tile_width': 1232,\n",
       "   'tile_height': 1232,\n",
       "   'match_extents': False,\n",
       "   'output_prefix': '',\n",
       "   'augmentation_factor': 1,\n",
       "   'discard_empty_tiles': True,\n",
       "   'nodata': None},\n",
       "  'orbital_pleiades_cars:1': {}},\n",
       " {'up42-processing-from-storage:1': {'asset_ids': ['bb2a1ced-c96d-4cc4-aa5b-735724af7079']},\n",
       "  'data-conversion-dimap:1': {'ms': True, 'pan': False, 'clip_to_aoi': False},\n",
       "  'crs-conversion:1': {'resampling_method': 'cubic', 'output_epsg_code': 3857},\n",
       "  'tiling:1': {'tile_width': 1232,\n",
       "   'tile_height': 1232,\n",
       "   'match_extents': False,\n",
       "   'output_prefix': '',\n",
       "   'augmentation_factor': 1,\n",
       "   'discard_empty_tiles': True,\n",
       "   'nodata': None},\n",
       "  'orbital_pleiades_cars:1': {}},\n",
       " {'up42-processing-from-storage:1': {'asset_ids': ['1ca07c99-e00d-4e38-9a4f-ae30f357ecb0']},\n",
       "  'data-conversion-dimap:1': {'ms': True, 'pan': False, 'clip_to_aoi': False},\n",
       "  'crs-conversion:1': {'resampling_method': 'cubic', 'output_epsg_code': 3857},\n",
       "  'tiling:1': {'tile_width': 1232,\n",
       "   'tile_height': 1232,\n",
       "   'match_extents': False,\n",
       "   'output_prefix': '',\n",
       "   'augmentation_factor': 1,\n",
       "   'discard_empty_tiles': True,\n",
       "   'nodata': None},\n",
       "  'orbital_pleiades_cars:1': {}},\n",
       " {'up42-processing-from-storage:1': {'asset_ids': ['d0d58251-08c9-415b-8dcb-e4206abdf712']},\n",
       "  'data-conversion-dimap:1': {'ms': True, 'pan': False, 'clip_to_aoi': False},\n",
       "  'crs-conversion:1': {'resampling_method': 'cubic', 'output_epsg_code': 3857},\n",
       "  'tiling:1': {'tile_width': 1232,\n",
       "   'tile_height': 1232,\n",
       "   'match_extents': False,\n",
       "   'output_prefix': '',\n",
       "   'augmentation_factor': 1,\n",
       "   'discard_empty_tiles': True,\n",
       "   'nodata': None},\n",
       "  'orbital_pleiades_cars:1': {}},\n",
       " {'up42-processing-from-storage:1': {'asset_ids': ['2235539a-c8b1-4076-8dc1-269eed37f65c']},\n",
       "  'data-conversion-dimap:1': {'ms': True, 'pan': False, 'clip_to_aoi': False},\n",
       "  'crs-conversion:1': {'resampling_method': 'cubic', 'output_epsg_code': 3857},\n",
       "  'tiling:1': {'tile_width': 1232,\n",
       "   'tile_height': 1232,\n",
       "   'match_extents': False,\n",
       "   'output_prefix': '',\n",
       "   'augmentation_factor': 1,\n",
       "   'discard_empty_tiles': True,\n",
       "   'nodata': None},\n",
       "  'orbital_pleiades_cars:1': {}},\n",
       " {'up42-processing-from-storage:1': {'asset_ids': ['e04cd0f7-f4f8-4ae1-9d20-660e33e2a4ac']},\n",
       "  'data-conversion-dimap:1': {'ms': True, 'pan': False, 'clip_to_aoi': False},\n",
       "  'crs-conversion:1': {'resampling_method': 'cubic', 'output_epsg_code': 3857},\n",
       "  'tiling:1': {'tile_width': 1232,\n",
       "   'tile_height': 1232,\n",
       "   'match_extents': False,\n",
       "   'output_prefix': '',\n",
       "   'augmentation_factor': 1,\n",
       "   'discard_empty_tiles': True,\n",
       "   'nodata': None},\n",
       "  'orbital_pleiades_cars:1': {}}]"
      ]
     },
     "execution_count": 11,
     "metadata": {},
     "output_type": "execute_result"
    }
   ],
   "source": [
    "# Adjust the JSON parameters like in the job configuration window\n",
    "# and Run the job for each image using the processing block Car Detection\n",
    "\n",
    "# Create an empty list\n",
    "input_parameters_list = []\n",
    "\n",
    "for i in range(len(asset_ids)):\n",
    "    \n",
    "    print(\"Working with the asset ID: \" + asset_ids[i])\n",
    "    \n",
    "    # Defining the input parameters\n",
    "    input_parameters = workflow.construct_parameters()\n",
    "\n",
    "    # Dont forget to adjust the parameters.\n",
    "    input_parameters[\"up42-processing-from-storage:1\"].update({\"asset_ids\":[asset_ids[i]]})\n",
    "    input_parameters[\"crs-conversion:1\"].update({\"output_epsg_code\":3857})\n",
    "    input_parameters[\"tiling:1\"].update({\"tile_width\":1232})\n",
    "    input_parameters[\"tiling:1\"].update({\"tile_height\":1232})\n",
    "    input_parameters[\"tiling:1\"].update({\"nodata\": None})\n",
    "    input_parameters_list.append(input_parameters)\n",
    "\n",
    "input_parameters_list"
   ]
  },
  {
   "cell_type": "code",
   "execution_count": 12,
   "id": "0975800f",
   "metadata": {},
   "outputs": [
    {
     "name": "stderr",
     "output_type": "stream",
     "text": [
      "2022-06-07 16:33:52,777 - Selected input_parameters: {'up42-processing-from-storage:1': {'asset_ids': ['01bef8e2-ad25-4131-8eb8-c934fa5f96ba']}, 'data-conversion-dimap:1': {'ms': True, 'pan': False, 'clip_to_aoi': False}, 'crs-conversion:1': {'resampling_method': 'cubic', 'output_epsg_code': 3857}, 'tiling:1': {'tile_width': 1232, 'tile_height': 1232, 'match_extents': False, 'output_prefix': '', 'augmentation_factor': 1, 'discard_empty_tiles': True, 'nodata': None}, 'orbital_pleiades_cars:1': {}}.\n",
      "2022-06-07 16:34:05,591 - Created and running new job: cb84d29c-8b65-49c8-89b4-8d653c03e4cb\n",
      "2022-06-07 16:34:05,753 - Selected input_parameters: {'up42-processing-from-storage:1': {'asset_ids': ['c5c9c759-e68d-40c2-94f5-18cb41c6e30f']}, 'data-conversion-dimap:1': {'ms': True, 'pan': False, 'clip_to_aoi': False}, 'crs-conversion:1': {'resampling_method': 'cubic', 'output_epsg_code': 3857}, 'tiling:1': {'tile_width': 1232, 'tile_height': 1232, 'match_extents': False, 'output_prefix': '', 'augmentation_factor': 1, 'discard_empty_tiles': True, 'nodata': None}, 'orbital_pleiades_cars:1': {}}.\n",
      "2022-06-07 16:34:16,904 - Created and running new job: f0cfd5f4-e524-4718-83ad-ee247fef699e\n",
      "2022-06-07 16:34:17,068 - Selected input_parameters: {'up42-processing-from-storage:1': {'asset_ids': ['d8bed2f6-9010-4330-b844-2fe8285c8262']}, 'data-conversion-dimap:1': {'ms': True, 'pan': False, 'clip_to_aoi': False}, 'crs-conversion:1': {'resampling_method': 'cubic', 'output_epsg_code': 3857}, 'tiling:1': {'tile_width': 1232, 'tile_height': 1232, 'match_extents': False, 'output_prefix': '', 'augmentation_factor': 1, 'discard_empty_tiles': True, 'nodata': None}, 'orbital_pleiades_cars:1': {}}.\n",
      "2022-06-07 16:34:28,953 - Created and running new job: f00c3b51-0487-45d5-af48-339a5d642d74\n",
      "2022-06-07 16:34:29,107 - Selected input_parameters: {'up42-processing-from-storage:1': {'asset_ids': ['d559ad3b-594e-4f6e-9867-dacd46826e26']}, 'data-conversion-dimap:1': {'ms': True, 'pan': False, 'clip_to_aoi': False}, 'crs-conversion:1': {'resampling_method': 'cubic', 'output_epsg_code': 3857}, 'tiling:1': {'tile_width': 1232, 'tile_height': 1232, 'match_extents': False, 'output_prefix': '', 'augmentation_factor': 1, 'discard_empty_tiles': True, 'nodata': None}, 'orbital_pleiades_cars:1': {}}.\n",
      "2022-06-07 16:34:41,490 - Created and running new job: 6a09880d-6899-43e4-bde0-da6190222b9e\n",
      "2022-06-07 16:34:41,657 - Selected input_parameters: {'up42-processing-from-storage:1': {'asset_ids': ['bb2a1ced-c96d-4cc4-aa5b-735724af7079']}, 'data-conversion-dimap:1': {'ms': True, 'pan': False, 'clip_to_aoi': False}, 'crs-conversion:1': {'resampling_method': 'cubic', 'output_epsg_code': 3857}, 'tiling:1': {'tile_width': 1232, 'tile_height': 1232, 'match_extents': False, 'output_prefix': '', 'augmentation_factor': 1, 'discard_empty_tiles': True, 'nodata': None}, 'orbital_pleiades_cars:1': {}}.\n",
      "2022-06-07 16:34:53,506 - Created and running new job: 500544b5-586f-4f8e-aad7-6a22b095abd8\n",
      "2022-06-07 16:34:53,662 - Selected input_parameters: {'up42-processing-from-storage:1': {'asset_ids': ['1ca07c99-e00d-4e38-9a4f-ae30f357ecb0']}, 'data-conversion-dimap:1': {'ms': True, 'pan': False, 'clip_to_aoi': False}, 'crs-conversion:1': {'resampling_method': 'cubic', 'output_epsg_code': 3857}, 'tiling:1': {'tile_width': 1232, 'tile_height': 1232, 'match_extents': False, 'output_prefix': '', 'augmentation_factor': 1, 'discard_empty_tiles': True, 'nodata': None}, 'orbital_pleiades_cars:1': {}}.\n",
      "2022-06-07 16:35:04,629 - Created and running new job: 4bf04bad-ea8d-44bf-89b4-8c7d3dadbf19\n",
      "2022-06-07 16:35:04,790 - Selected input_parameters: {'up42-processing-from-storage:1': {'asset_ids': ['d0d58251-08c9-415b-8dcb-e4206abdf712']}, 'data-conversion-dimap:1': {'ms': True, 'pan': False, 'clip_to_aoi': False}, 'crs-conversion:1': {'resampling_method': 'cubic', 'output_epsg_code': 3857}, 'tiling:1': {'tile_width': 1232, 'tile_height': 1232, 'match_extents': False, 'output_prefix': '', 'augmentation_factor': 1, 'discard_empty_tiles': True, 'nodata': None}, 'orbital_pleiades_cars:1': {}}.\n",
      "2022-06-07 16:35:16,245 - Created and running new job: c525ad5c-2646-4b0e-9a6d-1ee6a80947e5\n",
      "2022-06-07 16:35:16,391 - Selected input_parameters: {'up42-processing-from-storage:1': {'asset_ids': ['2235539a-c8b1-4076-8dc1-269eed37f65c']}, 'data-conversion-dimap:1': {'ms': True, 'pan': False, 'clip_to_aoi': False}, 'crs-conversion:1': {'resampling_method': 'cubic', 'output_epsg_code': 3857}, 'tiling:1': {'tile_width': 1232, 'tile_height': 1232, 'match_extents': False, 'output_prefix': '', 'augmentation_factor': 1, 'discard_empty_tiles': True, 'nodata': None}, 'orbital_pleiades_cars:1': {}}.\n",
      "2022-06-07 16:35:28,628 - Created and running new job: 180ebf3c-b26b-41c5-a377-6292b4038169\n",
      "2022-06-07 16:35:28,775 - Selected input_parameters: {'up42-processing-from-storage:1': {'asset_ids': ['e04cd0f7-f4f8-4ae1-9d20-660e33e2a4ac']}, 'data-conversion-dimap:1': {'ms': True, 'pan': False, 'clip_to_aoi': False}, 'crs-conversion:1': {'resampling_method': 'cubic', 'output_epsg_code': 3857}, 'tiling:1': {'tile_width': 1232, 'tile_height': 1232, 'match_extents': False, 'output_prefix': '', 'augmentation_factor': 1, 'discard_empty_tiles': True, 'nodata': None}, 'orbital_pleiades_cars:1': {}}.\n",
      "2022-06-07 16:35:41,155 - Created and running new job: 71ff4c12-faf5-40fb-8eac-1755595e6c25\n",
      "2022-06-07 16:35:41,312 - Tracking job status continuously, reporting every 20 seconds...\n",
      "2022-06-07 16:36:02,136 - Job is RUNNING! - cb84d29c-8b65-49c8-89b4-8d653c03e4cb\n",
      "2022-06-07 16:36:22,772 - Job is RUNNING! - cb84d29c-8b65-49c8-89b4-8d653c03e4cb\n",
      "2022-06-07 16:36:43,440 - Job is RUNNING! - cb84d29c-8b65-49c8-89b4-8d653c03e4cb\n",
      "2022-06-07 16:37:04,155 - Job is RUNNING! - cb84d29c-8b65-49c8-89b4-8d653c03e4cb\n",
      "2022-06-07 16:37:24,801 - Job is RUNNING! - cb84d29c-8b65-49c8-89b4-8d653c03e4cb\n",
      "2022-06-07 16:37:45,475 - Job is RUNNING! - cb84d29c-8b65-49c8-89b4-8d653c03e4cb\n",
      "2022-06-07 16:38:06,188 - Job is RUNNING! - cb84d29c-8b65-49c8-89b4-8d653c03e4cb\n",
      "2022-06-07 16:38:26,834 - Job is RUNNING! - cb84d29c-8b65-49c8-89b4-8d653c03e4cb\n",
      "2022-06-07 16:38:48,363 - Job is RUNNING! - cb84d29c-8b65-49c8-89b4-8d653c03e4cb\n",
      "2022-06-07 16:39:09,018 - Job is RUNNING! - cb84d29c-8b65-49c8-89b4-8d653c03e4cb\n",
      "2022-06-07 16:39:29,689 - Job is RUNNING! - cb84d29c-8b65-49c8-89b4-8d653c03e4cb\n",
      "2022-06-07 16:39:50,347 - Job is RUNNING! - cb84d29c-8b65-49c8-89b4-8d653c03e4cb\n",
      "2022-06-07 16:40:10,995 - Job is RUNNING! - cb84d29c-8b65-49c8-89b4-8d653c03e4cb\n",
      "2022-06-07 16:40:31,668 - Job is RUNNING! - cb84d29c-8b65-49c8-89b4-8d653c03e4cb\n",
      "2022-06-07 16:40:52,344 - Job is RUNNING! - cb84d29c-8b65-49c8-89b4-8d653c03e4cb\n",
      "2022-06-07 16:41:13,039 - Job is RUNNING! - cb84d29c-8b65-49c8-89b4-8d653c03e4cb\n",
      "2022-06-07 16:41:33,701 - Job is RUNNING! - cb84d29c-8b65-49c8-89b4-8d653c03e4cb\n",
      "2022-06-07 16:41:54,356 - Job is RUNNING! - cb84d29c-8b65-49c8-89b4-8d653c03e4cb\n",
      "2022-06-07 16:42:15,077 - Job is RUNNING! - cb84d29c-8b65-49c8-89b4-8d653c03e4cb\n",
      "2022-06-07 16:42:35,724 - Job is RUNNING! - cb84d29c-8b65-49c8-89b4-8d653c03e4cb\n",
      "2022-06-07 16:42:56,400 - Job is RUNNING! - cb84d29c-8b65-49c8-89b4-8d653c03e4cb\n",
      "2022-06-07 16:43:17,044 - Job is RUNNING! - cb84d29c-8b65-49c8-89b4-8d653c03e4cb\n",
      "2022-06-07 16:43:37,751 - Job is RUNNING! - cb84d29c-8b65-49c8-89b4-8d653c03e4cb\n",
      "2022-06-07 16:43:59,336 - Job is RUNNING! - cb84d29c-8b65-49c8-89b4-8d653c03e4cb\n",
      "2022-06-07 16:44:20,176 - Job is RUNNING! - cb84d29c-8b65-49c8-89b4-8d653c03e4cb\n",
      "2022-06-07 16:44:41,070 - Job is RUNNING! - cb84d29c-8b65-49c8-89b4-8d653c03e4cb\n",
      "2022-06-07 16:45:01,917 - Job is RUNNING! - cb84d29c-8b65-49c8-89b4-8d653c03e4cb\n",
      "2022-06-07 16:45:22,608 - Job is RUNNING! - cb84d29c-8b65-49c8-89b4-8d653c03e4cb\n",
      "2022-06-07 16:45:43,330 - Job is RUNNING! - cb84d29c-8b65-49c8-89b4-8d653c03e4cb\n",
      "2022-06-07 16:46:04,013 - Job is RUNNING! - cb84d29c-8b65-49c8-89b4-8d653c03e4cb\n",
      "2022-06-07 16:46:24,721 - Job is RUNNING! - cb84d29c-8b65-49c8-89b4-8d653c03e4cb\n",
      "2022-06-07 16:46:45,485 - Job is RUNNING! - cb84d29c-8b65-49c8-89b4-8d653c03e4cb\n",
      "2022-06-07 16:47:06,241 - Job is RUNNING! - cb84d29c-8b65-49c8-89b4-8d653c03e4cb\n",
      "2022-06-07 16:47:26,922 - Job is RUNNING! - cb84d29c-8b65-49c8-89b4-8d653c03e4cb\n"
     ]
    },
    {
     "name": "stderr",
     "output_type": "stream",
     "text": [
      "2022-06-07 16:47:47,629 - Job is RUNNING! - cb84d29c-8b65-49c8-89b4-8d653c03e4cb\n",
      "2022-06-07 16:48:08,306 - Job is RUNNING! - cb84d29c-8b65-49c8-89b4-8d653c03e4cb\n",
      "2022-06-07 16:48:29,172 - Job is RUNNING! - cb84d29c-8b65-49c8-89b4-8d653c03e4cb\n",
      "2022-06-07 16:48:51,001 - Job is RUNNING! - cb84d29c-8b65-49c8-89b4-8d653c03e4cb\n",
      "2022-06-07 16:49:11,735 - Job is RUNNING! - cb84d29c-8b65-49c8-89b4-8d653c03e4cb\n",
      "2022-06-07 16:49:32,446 - Job is RUNNING! - cb84d29c-8b65-49c8-89b4-8d653c03e4cb\n",
      "2022-06-07 16:49:53,176 - Job is RUNNING! - cb84d29c-8b65-49c8-89b4-8d653c03e4cb\n",
      "2022-06-07 16:50:13,863 - Job is RUNNING! - cb84d29c-8b65-49c8-89b4-8d653c03e4cb\n",
      "2022-06-07 16:50:34,600 - Job is RUNNING! - cb84d29c-8b65-49c8-89b4-8d653c03e4cb\n",
      "2022-06-07 16:50:50,110 - Job finished successfully! - cb84d29c-8b65-49c8-89b4-8d653c03e4cb\n",
      "2022-06-07 16:50:55,112 - Tracking job status continuously, reporting every 20 seconds...\n",
      "2022-06-07 16:51:15,971 - Job is RUNNING! - f0cfd5f4-e524-4718-83ad-ee247fef699e\n",
      "2022-06-07 16:51:36,735 - Job is RUNNING! - f0cfd5f4-e524-4718-83ad-ee247fef699e\n",
      "2022-06-07 16:51:57,391 - Job is RUNNING! - f0cfd5f4-e524-4718-83ad-ee247fef699e\n",
      "2022-06-07 16:52:18,119 - Job is RUNNING! - f0cfd5f4-e524-4718-83ad-ee247fef699e\n",
      "2022-06-07 16:52:38,814 - Job is RUNNING! - f0cfd5f4-e524-4718-83ad-ee247fef699e\n",
      "2022-06-07 16:52:59,532 - Job is RUNNING! - f0cfd5f4-e524-4718-83ad-ee247fef699e\n",
      "2022-06-07 16:53:20,233 - Job is RUNNING! - f0cfd5f4-e524-4718-83ad-ee247fef699e\n",
      "2022-06-07 16:53:40,911 - Job is RUNNING! - f0cfd5f4-e524-4718-83ad-ee247fef699e\n",
      "2022-06-07 16:54:02,490 - Job is RUNNING! - f0cfd5f4-e524-4718-83ad-ee247fef699e\n",
      "2022-06-07 16:54:23,214 - Job is RUNNING! - f0cfd5f4-e524-4718-83ad-ee247fef699e\n",
      "2022-06-07 16:54:33,615 - Job finished successfully! - f0cfd5f4-e524-4718-83ad-ee247fef699e\n",
      "2022-06-07 16:54:38,622 - Tracking job status continuously, reporting every 20 seconds...\n",
      "2022-06-07 16:54:59,569 - Job is RUNNING! - f00c3b51-0487-45d5-af48-339a5d642d74\n",
      "2022-06-07 16:55:09,920 - Job finished successfully! - f00c3b51-0487-45d5-af48-339a5d642d74\n",
      "2022-06-07 16:55:14,927 - Tracking job status continuously, reporting every 20 seconds...\n",
      "2022-06-07 16:55:35,835 - Job is RUNNING! - 6a09880d-6899-43e4-bde0-da6190222b9e\n",
      "2022-06-07 16:55:56,523 - Job is RUNNING! - 6a09880d-6899-43e4-bde0-da6190222b9e\n",
      "2022-06-07 16:56:17,229 - Job is RUNNING! - 6a09880d-6899-43e4-bde0-da6190222b9e\n",
      "2022-06-07 16:56:39,291 - Job is RUNNING! - 6a09880d-6899-43e4-bde0-da6190222b9e\n",
      "2022-06-07 16:56:59,958 - Job is RUNNING! - 6a09880d-6899-43e4-bde0-da6190222b9e\n",
      "2022-06-07 16:57:10,306 - Job finished successfully! - 6a09880d-6899-43e4-bde0-da6190222b9e\n",
      "2022-06-07 16:57:15,311 - Tracking job status continuously, reporting every 20 seconds...\n",
      "2022-06-07 16:57:15,507 - Job finished successfully! - 500544b5-586f-4f8e-aad7-6a22b095abd8\n",
      "2022-06-07 16:57:20,513 - Tracking job status continuously, reporting every 20 seconds...\n",
      "2022-06-07 16:57:20,687 - Job finished successfully! - 4bf04bad-ea8d-44bf-89b4-8c7d3dadbf19\n",
      "2022-06-07 16:57:25,689 - Tracking job status continuously, reporting every 20 seconds...\n",
      "2022-06-07 16:57:25,849 - Job finished successfully! - c525ad5c-2646-4b0e-9a6d-1ee6a80947e5\n",
      "2022-06-07 16:57:30,856 - Tracking job status continuously, reporting every 20 seconds...\n",
      "2022-06-07 16:57:51,717 - Job is RUNNING! - 180ebf3c-b26b-41c5-a377-6292b4038169\n",
      "2022-06-07 16:58:12,370 - Job is RUNNING! - 180ebf3c-b26b-41c5-a377-6292b4038169\n",
      "2022-06-07 16:58:33,105 - Job finished successfully! - 180ebf3c-b26b-41c5-a377-6292b4038169\n",
      "2022-06-07 16:58:38,112 - Tracking job status continuously, reporting every 20 seconds...\n",
      "2022-06-07 16:58:38,284 - Job finished successfully! - 71ff4c12-faf5-40fb-8eac-1755595e6c25\n"
     ]
    }
   ],
   "source": [
    "# Run jobs in parallel\n",
    "jobs = workflow.run_jobs_parallel(input_parameters_list=input_parameters_list)"
   ]
  },
  {
   "cell_type": "code",
   "execution_count": 13,
   "id": "983f86a7",
   "metadata": {},
   "outputs": [
    {
     "name": "stderr",
     "output_type": "stream",
     "text": [
      "2022-06-07 16:58:43,460 - Job is SUCCEEDED\n",
      "2022-06-07 16:58:43,461 - Downloading results of job cb84d29c-8b65-49c8-89b4-8d653c03e4cb\n",
      "2022-06-07 16:58:43,464 - Download directory: /Users/diego.alarcon/copma-2022/challenge/project_fe110e3a-4e80-455a-b3cb-010d73e7045c/job_cb84d29c-8b65-49c8-89b4-8d653c03e4cb\n",
      "7it [00:00, 1408.97it/s]\n",
      "2022-06-07 16:58:44,066 - Download successful of 2 files to output_directory '/Users/diego.alarcon/copma-2022/challenge/project_fe110e3a-4e80-455a-b3cb-010d73e7045c/job_cb84d29c-8b65-49c8-89b4-8d653c03e4cb': ['data.json', 'predictions.json']\n",
      "2022-06-07 16:58:44,202 - Job is SUCCEEDED\n",
      "2022-06-07 16:58:44,203 - Downloading results of job f0cfd5f4-e524-4718-83ad-ee247fef699e\n",
      "2022-06-07 16:58:44,203 - Download directory: /Users/diego.alarcon/copma-2022/challenge/project_fe110e3a-4e80-455a-b3cb-010d73e7045c/job_f0cfd5f4-e524-4718-83ad-ee247fef699e\n",
      "6it [00:00, 1572.37it/s]\n",
      "2022-06-07 16:58:44,659 - Download successful of 2 files to output_directory '/Users/diego.alarcon/copma-2022/challenge/project_fe110e3a-4e80-455a-b3cb-010d73e7045c/job_f0cfd5f4-e524-4718-83ad-ee247fef699e': ['data.json', 'predictions.json']\n",
      "2022-06-07 16:58:44,823 - Job is SUCCEEDED\n",
      "2022-06-07 16:58:44,825 - Downloading results of job f00c3b51-0487-45d5-af48-339a5d642d74\n",
      "2022-06-07 16:58:44,826 - Download directory: /Users/diego.alarcon/copma-2022/challenge/project_fe110e3a-4e80-455a-b3cb-010d73e7045c/job_f00c3b51-0487-45d5-af48-339a5d642d74\n",
      "4it [00:00, 1084.57it/s]\n",
      "2022-06-07 16:58:45,268 - Download successful of 2 files to output_directory '/Users/diego.alarcon/copma-2022/challenge/project_fe110e3a-4e80-455a-b3cb-010d73e7045c/job_f00c3b51-0487-45d5-af48-339a5d642d74': ['data.json', 'predictions.json']\n",
      "2022-06-07 16:58:45,416 - Job is SUCCEEDED\n",
      "2022-06-07 16:58:45,417 - Downloading results of job 6a09880d-6899-43e4-bde0-da6190222b9e\n",
      "2022-06-07 16:58:45,418 - Download directory: /Users/diego.alarcon/copma-2022/challenge/project_fe110e3a-4e80-455a-b3cb-010d73e7045c/job_6a09880d-6899-43e4-bde0-da6190222b9e\n",
      "5it [00:00, 1330.09it/s]\n",
      "2022-06-07 16:58:45,891 - Download successful of 2 files to output_directory '/Users/diego.alarcon/copma-2022/challenge/project_fe110e3a-4e80-455a-b3cb-010d73e7045c/job_6a09880d-6899-43e4-bde0-da6190222b9e': ['data.json', 'predictions.json']\n",
      "2022-06-07 16:58:46,056 - Job is SUCCEEDED\n",
      "2022-06-07 16:58:46,058 - Downloading results of job 500544b5-586f-4f8e-aad7-6a22b095abd8\n",
      "2022-06-07 16:58:46,059 - Download directory: /Users/diego.alarcon/copma-2022/challenge/project_fe110e3a-4e80-455a-b3cb-010d73e7045c/job_500544b5-586f-4f8e-aad7-6a22b095abd8\n",
      "3it [00:00, 517.16it/s]\n",
      "2022-06-07 16:58:46,426 - Download successful of 2 files to output_directory '/Users/diego.alarcon/copma-2022/challenge/project_fe110e3a-4e80-455a-b3cb-010d73e7045c/job_500544b5-586f-4f8e-aad7-6a22b095abd8': ['data.json', 'predictions.json']\n",
      "2022-06-07 16:58:46,581 - Job is SUCCEEDED\n",
      "2022-06-07 16:58:46,583 - Downloading results of job 4bf04bad-ea8d-44bf-89b4-8c7d3dadbf19\n",
      "2022-06-07 16:58:46,584 - Download directory: /Users/diego.alarcon/copma-2022/challenge/project_fe110e3a-4e80-455a-b3cb-010d73e7045c/job_4bf04bad-ea8d-44bf-89b4-8c7d3dadbf19\n",
      "7it [00:00, 1587.98it/s]\n",
      "2022-06-07 16:58:47,031 - Download successful of 2 files to output_directory '/Users/diego.alarcon/copma-2022/challenge/project_fe110e3a-4e80-455a-b3cb-010d73e7045c/job_4bf04bad-ea8d-44bf-89b4-8c7d3dadbf19': ['data.json', 'predictions.json']\n",
      "2022-06-07 16:58:47,176 - Job is SUCCEEDED\n",
      "2022-06-07 16:58:47,178 - Downloading results of job c525ad5c-2646-4b0e-9a6d-1ee6a80947e5\n",
      "2022-06-07 16:58:47,180 - Download directory: /Users/diego.alarcon/copma-2022/challenge/project_fe110e3a-4e80-455a-b3cb-010d73e7045c/job_c525ad5c-2646-4b0e-9a6d-1ee6a80947e5\n",
      "7it [00:00, 1780.80it/s]\n",
      "2022-06-07 16:58:47,670 - Download successful of 2 files to output_directory '/Users/diego.alarcon/copma-2022/challenge/project_fe110e3a-4e80-455a-b3cb-010d73e7045c/job_c525ad5c-2646-4b0e-9a6d-1ee6a80947e5': ['data.json', 'predictions.json']\n",
      "2022-06-07 16:58:47,839 - Job is SUCCEEDED\n",
      "2022-06-07 16:58:47,841 - Downloading results of job 180ebf3c-b26b-41c5-a377-6292b4038169\n",
      "2022-06-07 16:58:47,842 - Download directory: /Users/diego.alarcon/copma-2022/challenge/project_fe110e3a-4e80-455a-b3cb-010d73e7045c/job_180ebf3c-b26b-41c5-a377-6292b4038169\n",
      "6it [00:00, 1026.72it/s]\n",
      "2022-06-07 16:58:48,318 - Download successful of 2 files to output_directory '/Users/diego.alarcon/copma-2022/challenge/project_fe110e3a-4e80-455a-b3cb-010d73e7045c/job_180ebf3c-b26b-41c5-a377-6292b4038169': ['data.json', 'predictions.json']\n",
      "2022-06-07 16:58:48,496 - Job is SUCCEEDED\n",
      "2022-06-07 16:58:48,497 - Downloading results of job 71ff4c12-faf5-40fb-8eac-1755595e6c25\n",
      "2022-06-07 16:58:48,498 - Download directory: /Users/diego.alarcon/copma-2022/challenge/project_fe110e3a-4e80-455a-b3cb-010d73e7045c/job_71ff4c12-faf5-40fb-8eac-1755595e6c25\n",
      "5it [00:00, 735.95it/s]\n",
      "2022-06-07 16:58:48,954 - Download successful of 2 files to output_directory '/Users/diego.alarcon/copma-2022/challenge/project_fe110e3a-4e80-455a-b3cb-010d73e7045c/job_71ff4c12-faf5-40fb-8eac-1755595e6c25': ['data.json', 'predictions.json']\n"
     ]
    },
    {
     "data": {
      "text/plain": [
       "{'cb84d29c-8b65-49c8-89b4-8d653c03e4cb': ['/Users/diego.alarcon/copma-2022/challenge/project_fe110e3a-4e80-455a-b3cb-010d73e7045c/job_cb84d29c-8b65-49c8-89b4-8d653c03e4cb/data.json',\n",
       "  '/Users/diego.alarcon/copma-2022/challenge/project_fe110e3a-4e80-455a-b3cb-010d73e7045c/job_cb84d29c-8b65-49c8-89b4-8d653c03e4cb/predictions.json'],\n",
       " 'f0cfd5f4-e524-4718-83ad-ee247fef699e': ['/Users/diego.alarcon/copma-2022/challenge/project_fe110e3a-4e80-455a-b3cb-010d73e7045c/job_f0cfd5f4-e524-4718-83ad-ee247fef699e/data.json',\n",
       "  '/Users/diego.alarcon/copma-2022/challenge/project_fe110e3a-4e80-455a-b3cb-010d73e7045c/job_f0cfd5f4-e524-4718-83ad-ee247fef699e/predictions.json'],\n",
       " 'f00c3b51-0487-45d5-af48-339a5d642d74': ['/Users/diego.alarcon/copma-2022/challenge/project_fe110e3a-4e80-455a-b3cb-010d73e7045c/job_f00c3b51-0487-45d5-af48-339a5d642d74/data.json',\n",
       "  '/Users/diego.alarcon/copma-2022/challenge/project_fe110e3a-4e80-455a-b3cb-010d73e7045c/job_f00c3b51-0487-45d5-af48-339a5d642d74/predictions.json'],\n",
       " '6a09880d-6899-43e4-bde0-da6190222b9e': ['/Users/diego.alarcon/copma-2022/challenge/project_fe110e3a-4e80-455a-b3cb-010d73e7045c/job_6a09880d-6899-43e4-bde0-da6190222b9e/data.json',\n",
       "  '/Users/diego.alarcon/copma-2022/challenge/project_fe110e3a-4e80-455a-b3cb-010d73e7045c/job_6a09880d-6899-43e4-bde0-da6190222b9e/predictions.json'],\n",
       " '500544b5-586f-4f8e-aad7-6a22b095abd8': ['/Users/diego.alarcon/copma-2022/challenge/project_fe110e3a-4e80-455a-b3cb-010d73e7045c/job_500544b5-586f-4f8e-aad7-6a22b095abd8/data.json',\n",
       "  '/Users/diego.alarcon/copma-2022/challenge/project_fe110e3a-4e80-455a-b3cb-010d73e7045c/job_500544b5-586f-4f8e-aad7-6a22b095abd8/predictions.json'],\n",
       " '4bf04bad-ea8d-44bf-89b4-8c7d3dadbf19': ['/Users/diego.alarcon/copma-2022/challenge/project_fe110e3a-4e80-455a-b3cb-010d73e7045c/job_4bf04bad-ea8d-44bf-89b4-8c7d3dadbf19/data.json',\n",
       "  '/Users/diego.alarcon/copma-2022/challenge/project_fe110e3a-4e80-455a-b3cb-010d73e7045c/job_4bf04bad-ea8d-44bf-89b4-8c7d3dadbf19/predictions.json'],\n",
       " 'c525ad5c-2646-4b0e-9a6d-1ee6a80947e5': ['/Users/diego.alarcon/copma-2022/challenge/project_fe110e3a-4e80-455a-b3cb-010d73e7045c/job_c525ad5c-2646-4b0e-9a6d-1ee6a80947e5/data.json',\n",
       "  '/Users/diego.alarcon/copma-2022/challenge/project_fe110e3a-4e80-455a-b3cb-010d73e7045c/job_c525ad5c-2646-4b0e-9a6d-1ee6a80947e5/predictions.json'],\n",
       " '180ebf3c-b26b-41c5-a377-6292b4038169': ['/Users/diego.alarcon/copma-2022/challenge/project_fe110e3a-4e80-455a-b3cb-010d73e7045c/job_180ebf3c-b26b-41c5-a377-6292b4038169/data.json',\n",
       "  '/Users/diego.alarcon/copma-2022/challenge/project_fe110e3a-4e80-455a-b3cb-010d73e7045c/job_180ebf3c-b26b-41c5-a377-6292b4038169/predictions.json'],\n",
       " '71ff4c12-faf5-40fb-8eac-1755595e6c25': ['/Users/diego.alarcon/copma-2022/challenge/project_fe110e3a-4e80-455a-b3cb-010d73e7045c/job_71ff4c12-faf5-40fb-8eac-1755595e6c25/data.json',\n",
       "  '/Users/diego.alarcon/copma-2022/challenge/project_fe110e3a-4e80-455a-b3cb-010d73e7045c/job_71ff4c12-faf5-40fb-8eac-1755595e6c25/predictions.json'],\n",
       " 'merged_result': ['/Users/diego.alarcon/copma-2022/challenge/project_fe110e3a-4e80-455a-b3cb-010d73e7045c/data.json']}"
      ]
     },
     "execution_count": 13,
     "metadata": {},
     "output_type": "execute_result"
    }
   ],
   "source": [
    "jobs.download_results()"
   ]
  },
  {
   "cell_type": "code",
   "execution_count": 14,
   "id": "e4ac7e6b",
   "metadata": {},
   "outputs": [
    {
     "name": "stderr",
     "output_type": "stream",
     "text": [
      "2022-06-07 16:58:48,974 - Downloading results of job cb84d29c-8b65-49c8-89b4-8d653c03e4cb\n",
      "2022-06-07 16:58:48,976 - Download directory: /Users/diego.alarcon/copma-2022/challenge/project_fe110e3a-4e80-455a-b3cb-010d73e7045c/job_cb84d29c-8b65-49c8-89b4-8d653c03e4cb\n",
      "7it [00:00, 1031.85it/s]\n",
      "2022-06-07 16:58:49,413 - Download successful of 2 files to output_directory '/Users/diego.alarcon/copma-2022/challenge/project_fe110e3a-4e80-455a-b3cb-010d73e7045c/job_cb84d29c-8b65-49c8-89b4-8d653c03e4cb': ['data.json', 'predictions.json']\n",
      "2022-06-07 16:58:49,417 - Downloading results of job f0cfd5f4-e524-4718-83ad-ee247fef699e\n",
      "2022-06-07 16:58:49,418 - Download directory: /Users/diego.alarcon/copma-2022/challenge/project_fe110e3a-4e80-455a-b3cb-010d73e7045c/job_f0cfd5f4-e524-4718-83ad-ee247fef699e\n",
      "6it [00:00, 1639.36it/s]\n",
      "2022-06-07 16:58:49,902 - Download successful of 2 files to output_directory '/Users/diego.alarcon/copma-2022/challenge/project_fe110e3a-4e80-455a-b3cb-010d73e7045c/job_f0cfd5f4-e524-4718-83ad-ee247fef699e': ['data.json', 'predictions.json']\n",
      "2022-06-07 16:58:49,906 - Downloading results of job f00c3b51-0487-45d5-af48-339a5d642d74\n",
      "2022-06-07 16:58:49,907 - Download directory: /Users/diego.alarcon/copma-2022/challenge/project_fe110e3a-4e80-455a-b3cb-010d73e7045c/job_f00c3b51-0487-45d5-af48-339a5d642d74\n",
      "4it [00:00, 720.49it/s]\n",
      "2022-06-07 16:58:50,288 - Download successful of 2 files to output_directory '/Users/diego.alarcon/copma-2022/challenge/project_fe110e3a-4e80-455a-b3cb-010d73e7045c/job_f00c3b51-0487-45d5-af48-339a5d642d74': ['data.json', 'predictions.json']\n",
      "2022-06-07 16:58:50,292 - Downloading results of job 6a09880d-6899-43e4-bde0-da6190222b9e\n",
      "2022-06-07 16:58:50,294 - Download directory: /Users/diego.alarcon/copma-2022/challenge/project_fe110e3a-4e80-455a-b3cb-010d73e7045c/job_6a09880d-6899-43e4-bde0-da6190222b9e\n",
      "5it [00:00, 699.49it/s]\n",
      "2022-06-07 16:58:50,652 - Download successful of 2 files to output_directory '/Users/diego.alarcon/copma-2022/challenge/project_fe110e3a-4e80-455a-b3cb-010d73e7045c/job_6a09880d-6899-43e4-bde0-da6190222b9e': ['data.json', 'predictions.json']\n",
      "2022-06-07 16:58:50,655 - Downloading results of job 500544b5-586f-4f8e-aad7-6a22b095abd8\n",
      "2022-06-07 16:58:50,657 - Download directory: /Users/diego.alarcon/copma-2022/challenge/project_fe110e3a-4e80-455a-b3cb-010d73e7045c/job_500544b5-586f-4f8e-aad7-6a22b095abd8\n",
      "3it [00:00, 531.93it/s]\n",
      "2022-06-07 16:58:51,079 - Download successful of 2 files to output_directory '/Users/diego.alarcon/copma-2022/challenge/project_fe110e3a-4e80-455a-b3cb-010d73e7045c/job_500544b5-586f-4f8e-aad7-6a22b095abd8': ['data.json', 'predictions.json']\n",
      "2022-06-07 16:58:51,082 - Downloading results of job 4bf04bad-ea8d-44bf-89b4-8c7d3dadbf19\n",
      "2022-06-07 16:58:51,083 - Download directory: /Users/diego.alarcon/copma-2022/challenge/project_fe110e3a-4e80-455a-b3cb-010d73e7045c/job_4bf04bad-ea8d-44bf-89b4-8c7d3dadbf19\n",
      "7it [00:00, 1275.20it/s]\n",
      "2022-06-07 16:58:52,325 - Download successful of 2 files to output_directory '/Users/diego.alarcon/copma-2022/challenge/project_fe110e3a-4e80-455a-b3cb-010d73e7045c/job_4bf04bad-ea8d-44bf-89b4-8c7d3dadbf19': ['data.json', 'predictions.json']\n",
      "2022-06-07 16:58:52,331 - Downloading results of job c525ad5c-2646-4b0e-9a6d-1ee6a80947e5\n",
      "2022-06-07 16:58:52,332 - Download directory: /Users/diego.alarcon/copma-2022/challenge/project_fe110e3a-4e80-455a-b3cb-010d73e7045c/job_c525ad5c-2646-4b0e-9a6d-1ee6a80947e5\n",
      "7it [00:00, 1837.19it/s]\n",
      "2022-06-07 16:58:52,728 - Download successful of 2 files to output_directory '/Users/diego.alarcon/copma-2022/challenge/project_fe110e3a-4e80-455a-b3cb-010d73e7045c/job_c525ad5c-2646-4b0e-9a6d-1ee6a80947e5': ['data.json', 'predictions.json']\n",
      "2022-06-07 16:58:52,732 - Downloading results of job 180ebf3c-b26b-41c5-a377-6292b4038169\n",
      "2022-06-07 16:58:52,732 - Download directory: /Users/diego.alarcon/copma-2022/challenge/project_fe110e3a-4e80-455a-b3cb-010d73e7045c/job_180ebf3c-b26b-41c5-a377-6292b4038169\n",
      "6it [00:00, 1014.55it/s]\n",
      "2022-06-07 16:58:53,130 - Download successful of 2 files to output_directory '/Users/diego.alarcon/copma-2022/challenge/project_fe110e3a-4e80-455a-b3cb-010d73e7045c/job_180ebf3c-b26b-41c5-a377-6292b4038169': ['data.json', 'predictions.json']\n",
      "2022-06-07 16:58:53,133 - Downloading results of job 71ff4c12-faf5-40fb-8eac-1755595e6c25\n",
      "2022-06-07 16:58:53,134 - Download directory: /Users/diego.alarcon/copma-2022/challenge/project_fe110e3a-4e80-455a-b3cb-010d73e7045c/job_71ff4c12-faf5-40fb-8eac-1755595e6c25\n",
      "5it [00:00, 696.27it/s]\n",
      "2022-06-07 16:58:53,485 - Download successful of 2 files to output_directory '/Users/diego.alarcon/copma-2022/challenge/project_fe110e3a-4e80-455a-b3cb-010d73e7045c/job_71ff4c12-faf5-40fb-8eac-1755595e6c25': ['data.json', 'predictions.json']\n"
     ]
    }
   ],
   "source": [
    "identification_results = []\n",
    "for job in jobs:\n",
    "    identification_paths = job.download_results()\n",
    "    \n",
    "    geojson_path = [p for p in identification_paths if p.endswith(\"predictions.json\")][0]\n",
    "    with open(geojson_path) as f:\n",
    "        gj = json.load(f)\n",
    "        num = len(gj['features'])\n",
    "        #print(num)\n",
    "        \n",
    "    geojson_path2 = [p for p in identification_paths if p.endswith(\"data.json\")][0]\n",
    "    with open(geojson_path2) as f:\n",
    "        gf = json.load(f)\n",
    "        date = gf['features'][0]['properties']['acquisition_date'].rsplit('T', 1)[0]\n",
    "        #print(date)\n",
    "    \n",
    "    time_series_imfo = {'Cars': num,\n",
    "                       'Date': date}\n",
    "\n",
    "    identification_results.append(time_series_imfo)\n",
    "\n",
    "df = pd.DataFrame(identification_results, columns = ['Cars', 'Date'])\n",
    "df = df.sort_values('Date')"
   ]
  },
  {
   "cell_type": "markdown",
   "id": "c840a1ca",
   "metadata": {},
   "source": [
    "### Calculating the total number of cars."
   ]
  },
  {
   "cell_type": "code",
   "execution_count": 15,
   "id": "2beb4a09",
   "metadata": {},
   "outputs": [
    {
     "data": {
      "image/png": "[encoded data removed]",
      "text/plain": [
       "<Figure size 576x432 with 1 Axes>"
      ]
     },
     "metadata": {
      "needs_background": "light"
     },
     "output_type": "display_data"
    }
   ],
   "source": [
    "# Plotting Time-Series counting Cars in different dates for Saint-Malo (France)\n",
    "\n",
    "df.plot(x = 'Date', y = 'Cars', kind = 'line', figsize=(8,6))\n",
    "plt.xticks(rotation=45)\n",
    "plt.tight_layout()\n",
    "plt.show()"
   ]
  },
  {
   "cell_type": "code",
   "execution_count": 16,
   "id": "d6a7bf15",
   "metadata": {},
   "outputs": [
    {
     "name": "stdout",
     "output_type": "stream",
     "text": [
      "The number of Car within the AOI is 385 in the date 2018-09-27\n",
      "The number of Car within the AOI is 328 in the date 2020-09-25\n",
      "The number of Car within the AOI is 232 in the date 2020-08-02\n",
      "The number of Car within the AOI is 242 in the date 2020-11-03\n",
      "The number of Car within the AOI is 125 in the date 2021-10-03\n",
      "The number of Car within the AOI is 429 in the date 2019-06-21\n",
      "The number of Car within the AOI is 395 in the date 2022-04-20\n",
      "The number of Car within the AOI is 359 in the date 2021-06-05\n",
      "The number of Car within the AOI is 243 in the date 2020-11-28\n"
     ]
    }
   ],
   "source": [
    "# Checking information\n",
    "for i in range(len(df['Cars'])):\n",
    "    print(\"The number of Car within the AOI is {} in the date {}\".format(df['Cars'][i], df['Date'][i]))\n",
    "\n"
   ]
  }
 ],
 "metadata": {
  "kernelspec": {
   "display_name": "Python 3 (ipykernel)",
   "language": "python",
   "name": "python3"
  },
  "language_info": {
   "codemirror_mode": {
    "name": "ipython",
    "version": 3
   },
   "file_extension": ".py",
   "mimetype": "text/x-python",
   "name": "python",
   "nbconvert_exporter": "python",
   "pygments_lexer": "ipython3",
   "version": "3.9.7"
  }
 },
 "nbformat": 4,
 "nbformat_minor": 5
}
